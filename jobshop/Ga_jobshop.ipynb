{
 "cells": [
  {
   "cell_type": "code",
   "execution_count": 15,
   "metadata": {},
   "outputs": [
    {
     "name": "stdout",
     "output_type": "stream",
     "text": [
      "enter population size (default:30) : \n",
      "enter crossover rate (default:0.8) : \n",
      "enter mutation rate (default:0.2) : \n",
      "enter muation select rate (default:0.2) : \n",
      "enter the number of iteration times (default:2000) : \n"
     ]
    },
    {
     "ename": "AttributeError",
     "evalue": "'dict' object has no attribute 'append'",
     "output_type": "error",
     "traceback": [
      "\u001b[0;31m---------------------------------------------------------------------------\u001b[0m",
      "\u001b[0;31mAttributeError\u001b[0m                            Traceback (most recent call last)",
      "\u001b[0;32m<ipython-input-15-1a0e69c13b69>\u001b[0m in \u001b[0;36m<module>\u001b[0;34m\u001b[0m\n\u001b[1;32m     69\u001b[0m         \u001b[0;32mfor\u001b[0m \u001b[0mi\u001b[0m \u001b[0;32min\u001b[0m \u001b[0mrange\u001b[0m\u001b[0;34m(\u001b[0m\u001b[0mnum_job\u001b[0m\u001b[0;34m)\u001b[0m\u001b[0;34m:\u001b[0m\u001b[0;34m\u001b[0m\u001b[0;34m\u001b[0m\u001b[0m\n\u001b[1;32m     70\u001b[0m             \u001b[0;32mif\u001b[0m \u001b[0mi\u001b[0m \u001b[0;32min\u001b[0m \u001b[0mchild_list\u001b[0m\u001b[0;34m[\u001b[0m\u001b[0mj\u001b[0m\u001b[0;34m]\u001b[0m\u001b[0;34m:\u001b[0m\u001b[0;34m\u001b[0m\u001b[0;34m\u001b[0m\u001b[0m\n\u001b[0;32m---> 71\u001b[0;31m                 \u001b[0mjob_count\u001b[0m\u001b[0;34m.\u001b[0m\u001b[0mappend\u001b[0m\u001b[0;34m(\u001b[0m\u001b[0;34m[\u001b[0m\u001b[0mchild_list\u001b[0m\u001b[0;34m[\u001b[0m\u001b[0mj\u001b[0m\u001b[0;34m]\u001b[0m\u001b[0;34m.\u001b[0m\u001b[0mcount\u001b[0m\u001b[0;34m(\u001b[0m\u001b[0mi\u001b[0m\u001b[0;34m)\u001b[0m\u001b[0;34m,\u001b[0m\u001b[0mchild_list\u001b[0m\u001b[0;34m[\u001b[0m\u001b[0mj\u001b[0m\u001b[0;34m]\u001b[0m\u001b[0;34m.\u001b[0m\u001b[0mindex\u001b[0m\u001b[0;34m(\u001b[0m\u001b[0mi\u001b[0m\u001b[0;34m)\u001b[0m\u001b[0;34m]\u001b[0m\u001b[0;34m)\u001b[0m \u001b[0;31m#this is to store[times of each job appear , the first appear position]\u001b[0m\u001b[0;34m\u001b[0m\u001b[0;34m\u001b[0m\u001b[0m\n\u001b[0m\u001b[1;32m     72\u001b[0m             \u001b[0;32melse\u001b[0m\u001b[0;34m:\u001b[0m\u001b[0;34m\u001b[0m\u001b[0;34m\u001b[0m\u001b[0m\n\u001b[1;32m     73\u001b[0m                 \u001b[0mjob_count\u001b[0m\u001b[0;34m.\u001b[0m\u001b[0mappend\u001b[0m\u001b[0;34m(\u001b[0m\u001b[0;34m[\u001b[0m\u001b[0mchild_list\u001b[0m\u001b[0;34m[\u001b[0m\u001b[0mj\u001b[0m\u001b[0;34m]\u001b[0m\u001b[0;34m.\u001b[0m\u001b[0mcount\u001b[0m\u001b[0;34m(\u001b[0m\u001b[0mi\u001b[0m\u001b[0;34m)\u001b[0m\u001b[0;34m,\u001b[0m\u001b[0;36m0\u001b[0m\u001b[0;34m]\u001b[0m\u001b[0;34m)\u001b[0m\u001b[0;34m\u001b[0m\u001b[0;34m\u001b[0m\u001b[0m\n",
      "\u001b[0;31mAttributeError\u001b[0m: 'dict' object has no attribute 'append'"
     ]
    }
   ],
   "source": [
    "import pandas as pd\n",
    "import numpy as np\n",
    "import time\n",
    "import copy\n",
    "\n",
    "ex_pt = pd.read_excel(\"JSP_dataset.xlsx\",sheet_name=\"Processing Time\",index_col=\"Time\")\n",
    "ex_ms  = pd.read_excel(\"JSP_dataset.xlsx\",sheet_name=\"Machines Sequence\",index_col=\"order\")\n",
    "\n",
    "num_job = ex_pt.shape[1]\n",
    "num_machine = ex_pt.shape[0]\n",
    "num_gene = num_job*num_machine\n",
    "\n",
    "#use map to avoid the type of number in df is not int (ex.string)\n",
    "pt = [list(map(int,ex_pt.iloc[i]))for i in range(num_job)]\n",
    "ms = [ list( map( int , ex_ms.iloc[i] ) ) for i in range(num_job)]\n",
    "\n",
    "num_job = ex_pt.shape[1]\n",
    "num_machine = ex_pt.shape[0]\n",
    "num_gene = num_job*num_machine\n",
    "population_size = int(input(\"enter population size (default:30) : \" ) or 30)\n",
    "crossover_rate = float(input(\"enter crossover rate (default:0.8) : \") or 0.8)\n",
    "mutation_rate = float(input(\"enter mutation rate (default:0.2) : \") or 0.2)\n",
    "mutation_select_rate = float(input(\"enter muation select rate (default:0.2) : \") or 0.2) #this rate is used to  a kind of mutation,to decide how many genes need to mutation\n",
    "num_mutation = round(num_gene * mutation_select_rate)\n",
    "iteration_num = int(input(\"enter the number of iteration times (default:2000) : \") or 2000)\n",
    "\n",
    "#start to count the execution time\n",
    "start_time = time.time()\n",
    "\n",
    "#to set the initial population\n",
    "Test_best = 9999999999\n",
    "best_list,best_obj = [],[] #????????????\n",
    "population_list = []\n",
    "\n",
    "for i in range(population_size):\n",
    "    JxM_rannum_list = list( np.random.permutation(num_gene) ) #because the type of permutation is \"array\"\n",
    "    population_list.append(JxM_rannum_list)\n",
    "    for j in range(num_gene):\n",
    "        population_list[i][j] = population_list[i][j] % num_job # to make all number in list is 0-9\n",
    "\n",
    "for i in range(iteration_num):\n",
    "    Test_now = 9999999999\n",
    "    parent_list = copy.deepcopy(population_list)\n",
    "    child_list = copy.deepcopy(population_list)\n",
    "    cross_seq = list(np.random.permutation(population_size)) #to decide which couple of gene crossover\n",
    "    \n",
    "    #crossover\n",
    "    for j in range( int(population_size/2) ):\n",
    "        crossover_probability = np.random.rand() # decide if need to crossover or not\n",
    "        if( crossorver_rate >= crossover_probability):\n",
    "            parent_1 = population_list[ cross_seq[2*j] ]\n",
    "            parent_2 = population_list[ cross_seq[2*j + 1]]\n",
    "            #copy the parent first, then modify the gene later\n",
    "            child_1 = parent_1[:]\n",
    "            child_2 = parent_2[:]\n",
    "            cut_point = list(np.random.choice(num_gene , 2 , replace = False))\n",
    "            cut_point.sort() # to avoid the situation of cutpoint ex.(5,2)\n",
    "            \n",
    "            #modify the gene( crossover two chromosome between cutpoint)\n",
    "            child_1[ cut_point[0] : cut_point[1] ] = parent_2[ cut_point[0] : cut_point[1] ]\n",
    "            child_2[ cut_point[0] : cut_point[1] ] = parent_1[ cut_point[0] : cut_point[1] ]\n",
    "            #put the child(chromosome) into the child_list\n",
    "            child_list[ cross_seq[2*j] ] = child_1[:]\n",
    "            child_list[ cross_seq[2*j +1] ] = child_2[:]\n",
    "    #rapairment\n",
    "    for j in range( population_size ):\n",
    "        job_count = []\n",
    "        larger,less = [],[]\n",
    "        for i in range(num_job):\n",
    "            if i in child_list[j]:\n",
    "                job_count.append([child_list[j].count(i),child_list[j].index(i)]) #this is to store[times of each job appear , the first appear position]\n",
    "            else:\n",
    "                job_count.append([child_list[j].count(i),0])\n",
    "            if job_count[i][0] > num_machine:\n",
    "                larger.append(i)\n",
    "            elif job_count[i][0] < num_machine:\n",
    "                less.append(i)\n",
    "                \n",
    "        for k in range( len(larger) ):#append on each job which is larger\n",
    "            change_job = larger[k]\n",
    "            while job_count[change_job][0] > num_machine:\n",
    "                for x in range(len(less)):\n",
    "                    if job_count[ less[x] ][0] < num_machine:\n",
    "                        child_list[j][job_count[less[x]][1]] = less[x]\n",
    "                        job_count[change_job][1] = child_list[j].index(change_job)#to find the next appear,because the original is change to the less\n",
    "                        job_count[change_job][0] = job_count[change_job][0]-1\n",
    "                        job_count[ less[x] ][0] = job_count[ less[x] ][0] + 1\n",
    "                    if job_count[change_job][0] == num_machine:\n",
    "                        break"
   ]
  },
  {
   "cell_type": "code",
   "execution_count": 16,
   "metadata": {},
   "outputs": [
    {
     "data": {
      "text/plain": [
       "{0: [1, 2]}"
      ]
     },
     "execution_count": 16,
     "metadata": {},
     "output_type": "execute_result"
    }
   ],
   "source": [
    "test = {}\n",
    "test[0] = [ 1 , 2]\n",
    "test[0]"
   ]
  },
  {
   "cell_type": "code",
   "execution_count": null,
   "metadata": {},
   "outputs": [],
   "source": [
    "\n"
   ]
  },
  {
   "cell_type": "code",
   "execution_count": null,
   "metadata": {},
   "outputs": [],
   "source": []
  },
  {
   "cell_type": "code",
   "execution_count": null,
   "metadata": {},
   "outputs": [],
   "source": []
  },
  {
   "cell_type": "code",
   "execution_count": null,
   "metadata": {},
   "outputs": [],
   "source": []
  },
  {
   "cell_type": "code",
   "execution_count": null,
   "metadata": {},
   "outputs": [],
   "source": []
  },
  {
   "cell_type": "code",
   "execution_count": null,
   "metadata": {},
   "outputs": [],
   "source": []
  },
  {
   "cell_type": "code",
   "execution_count": null,
   "metadata": {},
   "outputs": [],
   "source": []
  },
  {
   "cell_type": "code",
   "execution_count": null,
   "metadata": {},
   "outputs": [],
   "source": []
  }
 ],
 "metadata": {
  "kernelspec": {
   "display_name": "Python 3",
   "language": "python",
   "name": "python3"
  },
  "language_info": {
   "codemirror_mode": {
    "name": "ipython",
    "version": 3
   },
   "file_extension": ".py",
   "mimetype": "text/x-python",
   "name": "python",
   "nbconvert_exporter": "python",
   "pygments_lexer": "ipython3",
   "version": "3.7.1"
  }
 },
 "nbformat": 4,
 "nbformat_minor": 2
}
